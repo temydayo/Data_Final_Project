{
 "cells": [
  {
   "cell_type": "markdown",
   "id": "684ee14e",
   "metadata": {},
   "source": [
    "# Data Final Project  - Research Data Bootcamp Microcredential\n",
    "\n",
    "1. Question - using information from a dataset that contains information on the number of global expeditions to reach Mount Everest, I will show the number of deaths with respect to the year and seasons from 2018 to 2020. (For my portfolio, I will create a table from this data set (Count of Mount Everest Ascent Data from 1953 - 2020) which will be followed by a visualization that shows this variation - a bar chart. The variables are the number of deaths and the year/seasons of the expedition to Mount Everest.\n",
    "\n",
    "\n",
    "3. Data set Evaluation - I will evaluate this dataset regarding accessibility. The factors to be considered to ensure the dataset is accessible are data location, data retrieval, access permissions, and personal data.\n",
    "\n",
    " - Data location - the data set is stored on the Harvard dataverse, which is a publicly accessible repository. It checks out the accessibility principle based on the centralized location.\n",
    "\n",
    " - Data retrieval - the dataset can easily be retrieved. It shows clear instructions on the data archive - Harvard Dataverse on how it can be downloaded in several formats.\n",
    "\n",
    " - Access permissions - there are no restrictions on the dataset, and there are no special permissions or registration required to access the dataset. It has open access.\n",
    " \n",
    " - Personal data - The dataset does not contain any form of personal data.                                            One challenge a user of this dataset might experience include complicated data structures. Which includes multiple tables, and hierarchical data that will require intricate techniques and technical tools to manage queries and data transformation. In addition, there is the challenge of data updates and versioning. This data set is relatively new, however, as it evolves over time with new releases or revisions, keeping up with the dataset’s version history and understanding the changes made may be a hassle for the user. Moreover, a certain level of expertise in statistical software, programming languages, or data analysis tools is required while working with datasets. The user who is not proficient in these tools and applications is most likely to experience challenges in manipulating, visualizing, or analyzing data. In addition, the user may struggle with complexities of data usage, such as navigating legal and ethical considerations, as the datasets may contain sensitive identifiable information. The user has to comply with regulations such as ensuring data security, acquiring appropriate consent, and preserving the privacy of all sensitive information. Finally, some data sets may contain missing values, errors, or inconsistencies that can be challenging for users. For the results to be accurate and reliable, this may cause the user to conduct data quality measures like validation, data cleaning, and preprocessing.\n",
    "\n",
    "\n",
    "TeBlunthuis, N., Hill, B. M., & Halfaker, A. (2021). Replication data for: Effects of algorithmic flagging on fairness: Quasi-experimental evidence from Wikipedia (Version V4) [Data set]. Harvard Dataverse. https://doi.org/10.7910/DVN/E0RYJ4\n",
    "\n",
    "\n"
   ]
  },
  {
   "cell_type": "code",
   "execution_count": null,
   "id": "c35308e7",
   "metadata": {},
   "outputs": [],
   "source": []
  }
 ],
 "metadata": {
  "kernelspec": {
   "display_name": "Python 3 (ipykernel)",
   "language": "python",
   "name": "python3"
  },
  "language_info": {
   "codemirror_mode": {
    "name": "ipython",
    "version": 3
   },
   "file_extension": ".py",
   "mimetype": "text/x-python",
   "name": "python",
   "nbconvert_exporter": "python",
   "pygments_lexer": "ipython3",
   "version": "3.9.13"
  }
 },
 "nbformat": 4,
 "nbformat_minor": 5
}
